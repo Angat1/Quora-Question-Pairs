{
 "cells": [
  {
   "cell_type": "markdown",
   "id": "8d7f2990",
   "metadata": {
    "papermill": {
     "duration": 0.027704,
     "end_time": "2021-10-06T17:43:07.603615",
     "exception": false,
     "start_time": "2021-10-06T17:43:07.575911",
     "status": "completed"
    },
    "tags": []
   },
   "source": [
    "# Quora Question Pairs: Modeling\n",
    "- Hola amigos, this notebook covers my code for the Modeling of **Quora Question Pairs** challenge, which can be found [here](https://www.kaggle.com/c/quora-question-pairs).\n",
    "- This is the **second notebook**. Check out my [first notebook](https://www.kaggle.com/elemento/quora-questionpairs-eda-visualization), that covers the **EDA & Visualization** aspect of this competition."
   ]
  },
  {
   "cell_type": "markdown",
   "id": "90993a91",
   "metadata": {
    "papermill": {
     "duration": 0.026394,
     "end_time": "2021-10-06T17:43:07.659004",
     "exception": false,
     "start_time": "2021-10-06T17:43:07.632610",
     "status": "completed"
    },
    "tags": []
   },
   "source": [
    "# Installing & Importing Packages"
   ]
  },
  {
   "cell_type": "code",
   "execution_count": 1,
   "id": "1de80367",
   "metadata": {
    "_cell_guid": "b1076dfc-b9ad-4769-8c92-a6c4dae69d19",
    "_uuid": "8f2839f25d086af736a60e9eeb907d3b93b6e0e5",
    "execution": {
     "iopub.execute_input": "2021-10-06T17:43:07.722397Z",
     "iopub.status.busy": "2021-10-06T17:43:07.715371Z",
     "iopub.status.idle": "2021-10-06T17:43:07.818352Z",
     "shell.execute_reply": "2021-10-06T17:43:07.817702Z",
     "shell.execute_reply.started": "2021-10-06T16:35:24.328554Z"
    },
    "papermill": {
     "duration": 0.133431,
     "end_time": "2021-10-06T17:43:07.818541",
     "exception": false,
     "start_time": "2021-10-06T17:43:07.685110",
     "status": "completed"
    },
    "scrolled": true,
    "tags": []
   },
   "outputs": [
    {
     "name": "stdout",
     "output_type": "stream",
     "text": [
      "/kaggle/input/d/elemento/quora-question-pairs/linear_svm.joblib\n",
      "/kaggle/input/d/elemento/quora-question-pairs/train_p.txt\n",
      "/kaggle/input/d/elemento/quora-question-pairs/wordcloud-1.3.3-cp36-cp36m-win_amd64.whl\n",
      "/kaggle/input/d/elemento/quora-question-pairs/final_features-004.csv\n",
      "/kaggle/input/d/elemento/quora-question-pairs/nlp_features_train.csv\n",
      "/kaggle/input/d/elemento/quora-question-pairs/df_fe_without_preprocessing_train.csv\n",
      "/kaggle/input/d/elemento/quora-question-pairs/final_features_tfidf.csv\n",
      "/kaggle/input/d/elemento/quora-question-pairs/train_n.txt\n",
      "/kaggle/input/d/elemento/quora-question-pairs/train-003.db\n",
      "/kaggle/input/d/elemento/quora-question-pairs/linear_svm_tfidf.joblib\n",
      "/kaggle/input/d/elemento/quora-question-pairs/final_features.csv\n",
      "/kaggle/input/d/elemento/quora-question-pairs/xgb_classifier_hpt.joblib\n",
      "/kaggle/input/d/elemento/quora-question-pairs/final_features_sm.csv\n",
      "/kaggle/input/d/elemento/quora-question-pairs/logistic_regression.joblib\n",
      "/kaggle/input/d/elemento/quora-question-pairs/xg_boost.joblib\n",
      "/kaggle/input/d/elemento/quora-question-pairs/logistic_regression_tfidf.joblib\n",
      "/kaggle/input/d/elemento/quora-question-pairs/distance/MANIFEST\n",
      "/kaggle/input/d/elemento/quora-question-pairs/distance/LICENSE\n",
      "/kaggle/input/d/elemento/quora-question-pairs/distance/.gitignore\n",
      "/kaggle/input/d/elemento/quora-question-pairs/distance/README.md\n",
      "/kaggle/input/d/elemento/quora-question-pairs/distance/setup.py\n",
      "/kaggle/input/d/elemento/quora-question-pairs/distance/tests/tests.py\n",
      "/kaggle/input/d/elemento/quora-question-pairs/distance/build/lib/distance/_lcsubstrings.py\n",
      "/kaggle/input/d/elemento/quora-question-pairs/distance/build/lib/distance/_levenshtein.py\n",
      "/kaggle/input/d/elemento/quora-question-pairs/distance/build/lib/distance/_simpledists.py\n",
      "/kaggle/input/d/elemento/quora-question-pairs/distance/build/lib/distance/_pyimports.py\n",
      "/kaggle/input/d/elemento/quora-question-pairs/distance/build/lib/distance/_fastcomp.py\n",
      "/kaggle/input/d/elemento/quora-question-pairs/distance/build/lib/distance/__init__.py\n",
      "/kaggle/input/d/elemento/quora-question-pairs/distance/build/lib/distance/_iterators.py\n",
      "/kaggle/input/d/elemento/quora-question-pairs/distance/cdistance/lcsubstrings.c\n",
      "/kaggle/input/d/elemento/quora-question-pairs/distance/cdistance/levenshtein.c\n",
      "/kaggle/input/d/elemento/quora-question-pairs/distance/cdistance/fastcomp.c\n",
      "/kaggle/input/d/elemento/quora-question-pairs/distance/cdistance/hamming.c\n",
      "/kaggle/input/d/elemento/quora-question-pairs/distance/cdistance/utarray.h\n",
      "/kaggle/input/d/elemento/quora-question-pairs/distance/cdistance/distance.c\n",
      "/kaggle/input/d/elemento/quora-question-pairs/distance/cdistance/includes.h\n",
      "/kaggle/input/d/elemento/quora-question-pairs/distance/cdistance/distance.h\n",
      "/kaggle/input/d/elemento/quora-question-pairs/distance/distance/_lcsubstrings.py\n",
      "/kaggle/input/d/elemento/quora-question-pairs/distance/distance/_levenshtein.py\n",
      "/kaggle/input/d/elemento/quora-question-pairs/distance/distance/_simpledists.py\n",
      "/kaggle/input/d/elemento/quora-question-pairs/distance/distance/_pyimports.py\n",
      "/kaggle/input/d/elemento/quora-question-pairs/distance/distance/_fastcomp.py\n",
      "/kaggle/input/d/elemento/quora-question-pairs/distance/distance/__init__.py\n",
      "/kaggle/input/d/elemento/quora-question-pairs/distance/distance/_iterators.py\n",
      "/kaggle/input/quora-question-pairs/train.csv.zip\n",
      "/kaggle/input/quora-question-pairs/sample_submission.csv.zip\n",
      "/kaggle/input/quora-question-pairs/test.csv\n",
      "/kaggle/input/quora-question-pairs/test.csv.zip\n"
     ]
    }
   ],
   "source": [
    "import os\n",
    "for dirname, _, filenames in os.walk('/kaggle/input'):\n",
    "    for filename in filenames:\n",
    "        print(os.path.join(dirname, filename))"
   ]
  },
  {
   "cell_type": "code",
   "execution_count": 2,
   "id": "fb6dd21f",
   "metadata": {
    "execution": {
     "iopub.execute_input": "2021-10-06T17:43:07.880288Z",
     "iopub.status.busy": "2021-10-06T17:43:07.879429Z",
     "iopub.status.idle": "2021-10-06T17:43:09.654416Z",
     "shell.execute_reply": "2021-10-06T17:43:09.655887Z",
     "shell.execute_reply.started": "2021-10-06T16:35:24.383246Z"
    },
    "papermill": {
     "duration": 1.811114,
     "end_time": "2021-10-06T17:43:09.656266",
     "exception": false,
     "start_time": "2021-10-06T17:43:07.845152",
     "status": "completed"
    },
    "tags": []
   },
   "outputs": [],
   "source": [
    "import re\n",
    "import time\n",
    "import csv\n",
    "import math\n",
    "import sqlite3\n",
    "import warnings\n",
    "import numpy as np\n",
    "import seaborn as sns\n",
    "import pandas as pd\n",
    "import datetime as dt\n",
    "import matplotlib.pyplot as plt\n",
    "import xgboost as xgb\n",
    "\n",
    "from joblib import dump, load\n",
    "from scipy.sparse import hstack\n",
    "from collections import Counter, defaultdict\n",
    "from sqlalchemy import create_engine # Database connection\n",
    "from nltk.corpus import stopwords\n",
    "from sklearn.decomposition import TruncatedSVD\n",
    "from sklearn.preprocessing import normalize\n",
    "from sklearn.feature_extraction.text import CountVectorizer, TfidfVectorizer\n",
    "from sklearn.manifold import TSNE\n",
    "from sklearn.neighbors import KNeighborsClassifier\n",
    "from sklearn.metrics import confusion_matrix, normalized_mutual_info_score\n",
    "from sklearn.metrics import precision_recall_curve, auc, roc_curve\n",
    "from sklearn.metrics import accuracy_score, log_loss\n",
    "from sklearn.multiclass import OneVsRestClassifier\n",
    "from sklearn.svm import SVC\n",
    "from sklearn.calibration import CalibratedClassifierCV\n",
    "from sklearn.naive_bayes import MultinomialNB\n",
    "from sklearn.naive_bayes import GaussianNB\n",
    "from sklearn.model_selection import train_test_split, cross_val_score, GridSearchCV, StratifiedKFold, RandomizedSearchCV \n",
    "from sklearn.ensemble import RandomForestClassifier\n",
    "from mlxtend.classifier import StackingClassifier\n",
    "from sklearn import model_selection\n",
    "from sklearn.linear_model import LogisticRegression, SGDClassifier\n",
    "\n",
    "warnings.filterwarnings(\"ignore\")"
   ]
  },
  {
   "cell_type": "markdown",
   "id": "576754f4",
   "metadata": {
    "papermill": {
     "duration": 0.026025,
     "end_time": "2021-10-06T17:43:09.710324",
     "exception": false,
     "start_time": "2021-10-06T17:43:09.684299",
     "status": "completed"
    },
    "tags": []
   },
   "source": [
    "# 4. Machine Learning Models\n",
    "## 4.1 Reading data from file and storing into sql table"
   ]
  },
  {
   "cell_type": "code",
   "execution_count": 3,
   "id": "5426bdfa",
   "metadata": {
    "execution": {
     "iopub.execute_input": "2021-10-06T17:43:09.766681Z",
     "iopub.status.busy": "2021-10-06T17:43:09.766068Z",
     "iopub.status.idle": "2021-10-06T17:43:19.163098Z",
     "shell.execute_reply": "2021-10-06T17:43:19.163532Z",
     "shell.execute_reply.started": "2021-10-06T16:35:26.187225Z"
    },
    "papermill": {
     "duration": 9.426948,
     "end_time": "2021-10-06T17:43:19.163699",
     "exception": false,
     "start_time": "2021-10-06T17:43:09.736751",
     "status": "completed"
    },
    "tags": []
   },
   "outputs": [
    {
     "name": "stdout",
     "output_type": "stream",
     "text": [
      "(100000, 221)\n"
     ]
    },
    {
     "data": {
      "text/html": [
       "<div>\n",
       "<style scoped>\n",
       "    .dataframe tbody tr th:only-of-type {\n",
       "        vertical-align: middle;\n",
       "    }\n",
       "\n",
       "    .dataframe tbody tr th {\n",
       "        vertical-align: top;\n",
       "    }\n",
       "\n",
       "    .dataframe thead th {\n",
       "        text-align: right;\n",
       "    }\n",
       "</style>\n",
       "<table border=\"1\" class=\"dataframe\">\n",
       "  <thead>\n",
       "    <tr style=\"text-align: right;\">\n",
       "      <th></th>\n",
       "      <th>Unnamed: 0</th>\n",
       "      <th>id</th>\n",
       "      <th>is_duplicate</th>\n",
       "      <th>cwc_min</th>\n",
       "      <th>cwc_max</th>\n",
       "      <th>csc_min</th>\n",
       "      <th>csc_max</th>\n",
       "      <th>ctc_min</th>\n",
       "      <th>ctc_max</th>\n",
       "      <th>last_word_eq</th>\n",
       "      <th>...</th>\n",
       "      <th>86_y</th>\n",
       "      <th>87_y</th>\n",
       "      <th>88_y</th>\n",
       "      <th>89_y</th>\n",
       "      <th>90_y</th>\n",
       "      <th>91_y</th>\n",
       "      <th>92_y</th>\n",
       "      <th>93_y</th>\n",
       "      <th>94_y</th>\n",
       "      <th>95_y</th>\n",
       "    </tr>\n",
       "  </thead>\n",
       "  <tbody>\n",
       "    <tr>\n",
       "      <th>0</th>\n",
       "      <td>0</td>\n",
       "      <td>0</td>\n",
       "      <td>0</td>\n",
       "      <td>0.999980</td>\n",
       "      <td>0.833319</td>\n",
       "      <td>0.999983</td>\n",
       "      <td>0.999983</td>\n",
       "      <td>0.916659</td>\n",
       "      <td>0.785709</td>\n",
       "      <td>0.0</td>\n",
       "      <td>...</td>\n",
       "      <td>15.591466</td>\n",
       "      <td>96.113849</td>\n",
       "      <td>31.001480</td>\n",
       "      <td>-44.172052</td>\n",
       "      <td>21.397091</td>\n",
       "      <td>-46.908810</td>\n",
       "      <td>-100.162247</td>\n",
       "      <td>-1.978221</td>\n",
       "      <td>38.112752</td>\n",
       "      <td>-11.592531</td>\n",
       "    </tr>\n",
       "    <tr>\n",
       "      <th>1</th>\n",
       "      <td>1</td>\n",
       "      <td>1</td>\n",
       "      <td>0</td>\n",
       "      <td>0.799984</td>\n",
       "      <td>0.399996</td>\n",
       "      <td>0.749981</td>\n",
       "      <td>0.599988</td>\n",
       "      <td>0.699993</td>\n",
       "      <td>0.466664</td>\n",
       "      <td>0.0</td>\n",
       "      <td>...</td>\n",
       "      <td>-84.838611</td>\n",
       "      <td>54.099417</td>\n",
       "      <td>-65.543286</td>\n",
       "      <td>-23.634332</td>\n",
       "      <td>-85.303453</td>\n",
       "      <td>33.143694</td>\n",
       "      <td>-65.774337</td>\n",
       "      <td>28.145018</td>\n",
       "      <td>-22.243213</td>\n",
       "      <td>0.169092</td>\n",
       "    </tr>\n",
       "    <tr>\n",
       "      <th>2</th>\n",
       "      <td>2</td>\n",
       "      <td>2</td>\n",
       "      <td>0</td>\n",
       "      <td>0.399992</td>\n",
       "      <td>0.333328</td>\n",
       "      <td>0.399992</td>\n",
       "      <td>0.249997</td>\n",
       "      <td>0.399996</td>\n",
       "      <td>0.285712</td>\n",
       "      <td>0.0</td>\n",
       "      <td>...</td>\n",
       "      <td>27.926253</td>\n",
       "      <td>33.117176</td>\n",
       "      <td>66.706154</td>\n",
       "      <td>50.397498</td>\n",
       "      <td>42.266215</td>\n",
       "      <td>-29.920099</td>\n",
       "      <td>-53.378103</td>\n",
       "      <td>-31.755547</td>\n",
       "      <td>77.061497</td>\n",
       "      <td>9.438696</td>\n",
       "    </tr>\n",
       "    <tr>\n",
       "      <th>3</th>\n",
       "      <td>3</td>\n",
       "      <td>3</td>\n",
       "      <td>0</td>\n",
       "      <td>0.000000</td>\n",
       "      <td>0.000000</td>\n",
       "      <td>0.000000</td>\n",
       "      <td>0.000000</td>\n",
       "      <td>0.000000</td>\n",
       "      <td>0.000000</td>\n",
       "      <td>0.0</td>\n",
       "      <td>...</td>\n",
       "      <td>-7.491278</td>\n",
       "      <td>44.788221</td>\n",
       "      <td>6.437781</td>\n",
       "      <td>39.981581</td>\n",
       "      <td>-43.237003</td>\n",
       "      <td>39.471643</td>\n",
       "      <td>-0.322382</td>\n",
       "      <td>-6.074735</td>\n",
       "      <td>-4.417220</td>\n",
       "      <td>5.627428</td>\n",
       "    </tr>\n",
       "    <tr>\n",
       "      <th>4</th>\n",
       "      <td>4</td>\n",
       "      <td>4</td>\n",
       "      <td>0</td>\n",
       "      <td>0.399992</td>\n",
       "      <td>0.199998</td>\n",
       "      <td>0.999950</td>\n",
       "      <td>0.666644</td>\n",
       "      <td>0.571420</td>\n",
       "      <td>0.307690</td>\n",
       "      <td>0.0</td>\n",
       "      <td>...</td>\n",
       "      <td>44.084751</td>\n",
       "      <td>37.174410</td>\n",
       "      <td>0.356843</td>\n",
       "      <td>-29.468567</td>\n",
       "      <td>33.367771</td>\n",
       "      <td>-12.860933</td>\n",
       "      <td>-44.425541</td>\n",
       "      <td>3.958389</td>\n",
       "      <td>-13.291972</td>\n",
       "      <td>-9.029029</td>\n",
       "    </tr>\n",
       "  </tbody>\n",
       "</table>\n",
       "<p>5 rows × 221 columns</p>\n",
       "</div>"
      ],
      "text/plain": [
       "   Unnamed: 0  id  is_duplicate   cwc_min   cwc_max   csc_min   csc_max  \\\n",
       "0           0   0             0  0.999980  0.833319  0.999983  0.999983   \n",
       "1           1   1             0  0.799984  0.399996  0.749981  0.599988   \n",
       "2           2   2             0  0.399992  0.333328  0.399992  0.249997   \n",
       "3           3   3             0  0.000000  0.000000  0.000000  0.000000   \n",
       "4           4   4             0  0.399992  0.199998  0.999950  0.666644   \n",
       "\n",
       "    ctc_min   ctc_max  last_word_eq  ...       86_y       87_y       88_y  \\\n",
       "0  0.916659  0.785709           0.0  ...  15.591466  96.113849  31.001480   \n",
       "1  0.699993  0.466664           0.0  ... -84.838611  54.099417 -65.543286   \n",
       "2  0.399996  0.285712           0.0  ...  27.926253  33.117176  66.706154   \n",
       "3  0.000000  0.000000           0.0  ...  -7.491278  44.788221   6.437781   \n",
       "4  0.571420  0.307690           0.0  ...  44.084751  37.174410   0.356843   \n",
       "\n",
       "        89_y       90_y       91_y        92_y       93_y       94_y  \\\n",
       "0 -44.172052  21.397091 -46.908810 -100.162247  -1.978221  38.112752   \n",
       "1 -23.634332 -85.303453  33.143694  -65.774337  28.145018 -22.243213   \n",
       "2  50.397498  42.266215 -29.920099  -53.378103 -31.755547  77.061497   \n",
       "3  39.981581 -43.237003  39.471643   -0.322382  -6.074735  -4.417220   \n",
       "4 -29.468567  33.367771 -12.860933  -44.425541   3.958389 -13.291972   \n",
       "\n",
       "        95_y  \n",
       "0 -11.592531  \n",
       "1   0.169092  \n",
       "2   9.438696  \n",
       "3   5.627428  \n",
       "4  -9.029029  \n",
       "\n",
       "[5 rows x 221 columns]"
      ]
     },
     "execution_count": 3,
     "metadata": {},
     "output_type": "execute_result"
    }
   ],
   "source": [
    "data = pd.read_csv(\"../input/d/elemento/quora-question-pairs/final_features_sm.csv\", nrows = 100000)\n",
    "print(data.shape)\n",
    "data.head()"
   ]
  },
  {
   "cell_type": "code",
   "execution_count": 4,
   "id": "ff7f4643",
   "metadata": {
    "execution": {
     "iopub.execute_input": "2021-10-06T17:43:19.223216Z",
     "iopub.status.busy": "2021-10-06T17:43:19.222336Z",
     "iopub.status.idle": "2021-10-06T17:43:19.282782Z",
     "shell.execute_reply": "2021-10-06T17:43:19.283264Z",
     "shell.execute_reply.started": "2021-10-06T16:35:34.931171Z"
    },
    "papermill": {
     "duration": 0.092466,
     "end_time": "2021-10-06T17:43:19.283426",
     "exception": false,
     "start_time": "2021-10-06T17:43:19.190960",
     "status": "completed"
    },
    "tags": []
   },
   "outputs": [
    {
     "name": "stdout",
     "output_type": "stream",
     "text": [
      "(100000, 218)\n"
     ]
    }
   ],
   "source": [
    "y_true = data['is_duplicate']\n",
    "data.drop(['Unnamed: 0', 'id','is_duplicate'], axis=1, inplace=True)\n",
    "print(data.shape)"
   ]
  },
  {
   "cell_type": "code",
   "execution_count": 5,
   "id": "1a15b62d",
   "metadata": {
    "execution": {
     "iopub.execute_input": "2021-10-06T17:43:19.341669Z",
     "iopub.status.busy": "2021-10-06T17:43:19.340794Z",
     "iopub.status.idle": "2021-10-06T17:43:19.363217Z",
     "shell.execute_reply": "2021-10-06T17:43:19.363622Z",
     "shell.execute_reply.started": "2021-10-06T16:35:34.996716Z"
    },
    "papermill": {
     "duration": 0.053103,
     "end_time": "2021-10-06T17:43:19.363785",
     "exception": false,
     "start_time": "2021-10-06T17:43:19.310682",
     "status": "completed"
    },
    "tags": []
   },
   "outputs": [
    {
     "data": {
      "text/html": [
       "<div>\n",
       "<style scoped>\n",
       "    .dataframe tbody tr th:only-of-type {\n",
       "        vertical-align: middle;\n",
       "    }\n",
       "\n",
       "    .dataframe tbody tr th {\n",
       "        vertical-align: top;\n",
       "    }\n",
       "\n",
       "    .dataframe thead th {\n",
       "        text-align: right;\n",
       "    }\n",
       "</style>\n",
       "<table border=\"1\" class=\"dataframe\">\n",
       "  <thead>\n",
       "    <tr style=\"text-align: right;\">\n",
       "      <th></th>\n",
       "      <th>cwc_min</th>\n",
       "      <th>cwc_max</th>\n",
       "      <th>csc_min</th>\n",
       "      <th>csc_max</th>\n",
       "      <th>ctc_min</th>\n",
       "      <th>ctc_max</th>\n",
       "      <th>last_word_eq</th>\n",
       "      <th>first_word_eq</th>\n",
       "      <th>abs_len_diff</th>\n",
       "      <th>mean_len</th>\n",
       "      <th>...</th>\n",
       "      <th>86_y</th>\n",
       "      <th>87_y</th>\n",
       "      <th>88_y</th>\n",
       "      <th>89_y</th>\n",
       "      <th>90_y</th>\n",
       "      <th>91_y</th>\n",
       "      <th>92_y</th>\n",
       "      <th>93_y</th>\n",
       "      <th>94_y</th>\n",
       "      <th>95_y</th>\n",
       "    </tr>\n",
       "  </thead>\n",
       "  <tbody>\n",
       "    <tr>\n",
       "      <th>0</th>\n",
       "      <td>0.999980</td>\n",
       "      <td>0.833319</td>\n",
       "      <td>0.999983</td>\n",
       "      <td>0.999983</td>\n",
       "      <td>0.916659</td>\n",
       "      <td>0.785709</td>\n",
       "      <td>0.0</td>\n",
       "      <td>1.0</td>\n",
       "      <td>2.0</td>\n",
       "      <td>13.0</td>\n",
       "      <td>...</td>\n",
       "      <td>15.591466</td>\n",
       "      <td>96.113849</td>\n",
       "      <td>31.001480</td>\n",
       "      <td>-44.172052</td>\n",
       "      <td>21.397091</td>\n",
       "      <td>-46.908810</td>\n",
       "      <td>-100.162247</td>\n",
       "      <td>-1.978221</td>\n",
       "      <td>38.112752</td>\n",
       "      <td>-11.592531</td>\n",
       "    </tr>\n",
       "    <tr>\n",
       "      <th>1</th>\n",
       "      <td>0.799984</td>\n",
       "      <td>0.399996</td>\n",
       "      <td>0.749981</td>\n",
       "      <td>0.599988</td>\n",
       "      <td>0.699993</td>\n",
       "      <td>0.466664</td>\n",
       "      <td>0.0</td>\n",
       "      <td>1.0</td>\n",
       "      <td>5.0</td>\n",
       "      <td>12.5</td>\n",
       "      <td>...</td>\n",
       "      <td>-84.838611</td>\n",
       "      <td>54.099417</td>\n",
       "      <td>-65.543286</td>\n",
       "      <td>-23.634332</td>\n",
       "      <td>-85.303453</td>\n",
       "      <td>33.143694</td>\n",
       "      <td>-65.774337</td>\n",
       "      <td>28.145018</td>\n",
       "      <td>-22.243213</td>\n",
       "      <td>0.169092</td>\n",
       "    </tr>\n",
       "    <tr>\n",
       "      <th>2</th>\n",
       "      <td>0.399992</td>\n",
       "      <td>0.333328</td>\n",
       "      <td>0.399992</td>\n",
       "      <td>0.249997</td>\n",
       "      <td>0.399996</td>\n",
       "      <td>0.285712</td>\n",
       "      <td>0.0</td>\n",
       "      <td>1.0</td>\n",
       "      <td>4.0</td>\n",
       "      <td>12.0</td>\n",
       "      <td>...</td>\n",
       "      <td>27.926253</td>\n",
       "      <td>33.117176</td>\n",
       "      <td>66.706154</td>\n",
       "      <td>50.397498</td>\n",
       "      <td>42.266215</td>\n",
       "      <td>-29.920099</td>\n",
       "      <td>-53.378103</td>\n",
       "      <td>-31.755547</td>\n",
       "      <td>77.061497</td>\n",
       "      <td>9.438696</td>\n",
       "    </tr>\n",
       "    <tr>\n",
       "      <th>3</th>\n",
       "      <td>0.000000</td>\n",
       "      <td>0.000000</td>\n",
       "      <td>0.000000</td>\n",
       "      <td>0.000000</td>\n",
       "      <td>0.000000</td>\n",
       "      <td>0.000000</td>\n",
       "      <td>0.0</td>\n",
       "      <td>0.0</td>\n",
       "      <td>2.0</td>\n",
       "      <td>12.0</td>\n",
       "      <td>...</td>\n",
       "      <td>-7.491278</td>\n",
       "      <td>44.788221</td>\n",
       "      <td>6.437781</td>\n",
       "      <td>39.981581</td>\n",
       "      <td>-43.237003</td>\n",
       "      <td>39.471643</td>\n",
       "      <td>-0.322382</td>\n",
       "      <td>-6.074735</td>\n",
       "      <td>-4.417220</td>\n",
       "      <td>5.627428</td>\n",
       "    </tr>\n",
       "    <tr>\n",
       "      <th>4</th>\n",
       "      <td>0.399992</td>\n",
       "      <td>0.199998</td>\n",
       "      <td>0.999950</td>\n",
       "      <td>0.666644</td>\n",
       "      <td>0.571420</td>\n",
       "      <td>0.307690</td>\n",
       "      <td>0.0</td>\n",
       "      <td>1.0</td>\n",
       "      <td>6.0</td>\n",
       "      <td>10.0</td>\n",
       "      <td>...</td>\n",
       "      <td>44.084751</td>\n",
       "      <td>37.174410</td>\n",
       "      <td>0.356843</td>\n",
       "      <td>-29.468567</td>\n",
       "      <td>33.367771</td>\n",
       "      <td>-12.860933</td>\n",
       "      <td>-44.425541</td>\n",
       "      <td>3.958389</td>\n",
       "      <td>-13.291972</td>\n",
       "      <td>-9.029029</td>\n",
       "    </tr>\n",
       "  </tbody>\n",
       "</table>\n",
       "<p>5 rows × 218 columns</p>\n",
       "</div>"
      ],
      "text/plain": [
       "    cwc_min   cwc_max   csc_min   csc_max   ctc_min   ctc_max  last_word_eq  \\\n",
       "0  0.999980  0.833319  0.999983  0.999983  0.916659  0.785709           0.0   \n",
       "1  0.799984  0.399996  0.749981  0.599988  0.699993  0.466664           0.0   \n",
       "2  0.399992  0.333328  0.399992  0.249997  0.399996  0.285712           0.0   \n",
       "3  0.000000  0.000000  0.000000  0.000000  0.000000  0.000000           0.0   \n",
       "4  0.399992  0.199998  0.999950  0.666644  0.571420  0.307690           0.0   \n",
       "\n",
       "   first_word_eq  abs_len_diff  mean_len  ...       86_y       87_y  \\\n",
       "0            1.0           2.0      13.0  ...  15.591466  96.113849   \n",
       "1            1.0           5.0      12.5  ... -84.838611  54.099417   \n",
       "2            1.0           4.0      12.0  ...  27.926253  33.117176   \n",
       "3            0.0           2.0      12.0  ...  -7.491278  44.788221   \n",
       "4            1.0           6.0      10.0  ...  44.084751  37.174410   \n",
       "\n",
       "        88_y       89_y       90_y       91_y        92_y       93_y  \\\n",
       "0  31.001480 -44.172052  21.397091 -46.908810 -100.162247  -1.978221   \n",
       "1 -65.543286 -23.634332 -85.303453  33.143694  -65.774337  28.145018   \n",
       "2  66.706154  50.397498  42.266215 -29.920099  -53.378103 -31.755547   \n",
       "3   6.437781  39.981581 -43.237003  39.471643   -0.322382  -6.074735   \n",
       "4   0.356843 -29.468567  33.367771 -12.860933  -44.425541   3.958389   \n",
       "\n",
       "        94_y       95_y  \n",
       "0  38.112752 -11.592531  \n",
       "1 -22.243213   0.169092  \n",
       "2  77.061497   9.438696  \n",
       "3  -4.417220   5.627428  \n",
       "4 -13.291972  -9.029029  \n",
       "\n",
       "[5 rows x 218 columns]"
      ]
     },
     "execution_count": 5,
     "metadata": {},
     "output_type": "execute_result"
    }
   ],
   "source": [
    "data.head()"
   ]
  },
  {
   "cell_type": "markdown",
   "id": "697057e8",
   "metadata": {
    "papermill": {
     "duration": 0.027699,
     "end_time": "2021-10-06T17:43:19.419161",
     "exception": false,
     "start_time": "2021-10-06T17:43:19.391462",
     "status": "completed"
    },
    "tags": []
   },
   "source": [
    "## 4.2 Random train test split( 70:30)"
   ]
  },
  {
   "cell_type": "code",
   "execution_count": 6,
   "id": "68859bf0",
   "metadata": {
    "execution": {
     "iopub.execute_input": "2021-10-06T17:43:19.481893Z",
     "iopub.status.busy": "2021-10-06T17:43:19.480945Z",
     "iopub.status.idle": "2021-10-06T17:43:19.696207Z",
     "shell.execute_reply": "2021-10-06T17:43:19.696673Z",
     "shell.execute_reply.started": "2021-10-06T16:35:35.029802Z"
    },
    "papermill": {
     "duration": 0.249372,
     "end_time": "2021-10-06T17:43:19.696838",
     "exception": false,
     "start_time": "2021-10-06T17:43:19.447466",
     "status": "completed"
    },
    "tags": []
   },
   "outputs": [
    {
     "name": "stdout",
     "output_type": "stream",
     "text": [
      "(70000, 218) (30000, 218) (70000,) (30000,)\n"
     ]
    }
   ],
   "source": [
    "X_train, X_test, y_train, y_test = train_test_split(data, y_true, stratify = y_true, test_size = 0.3)\n",
    "print(X_train.shape, X_test.shape, y_train.shape, y_test.shape)"
   ]
  },
  {
   "cell_type": "code",
   "execution_count": 7,
   "id": "b4f2e3c4",
   "metadata": {
    "execution": {
     "iopub.execute_input": "2021-10-06T17:43:19.758997Z",
     "iopub.status.busy": "2021-10-06T17:43:19.758163Z",
     "iopub.status.idle": "2021-10-06T17:43:19.761362Z",
     "shell.execute_reply": "2021-10-06T17:43:19.761971Z",
     "shell.execute_reply.started": "2021-10-06T16:35:35.260025Z"
    },
    "papermill": {
     "duration": 0.037189,
     "end_time": "2021-10-06T17:43:19.762139",
     "exception": false,
     "start_time": "2021-10-06T17:43:19.724950",
     "status": "completed"
    },
    "tags": []
   },
   "outputs": [
    {
     "name": "stdout",
     "output_type": "stream",
     "text": [
      "Number of data points in train data: (70000, 218)\n",
      "Number of data points in test data: (30000, 218)\n"
     ]
    }
   ],
   "source": [
    "print(\"Number of data points in train data:\",X_train.shape)\n",
    "print(\"Number of data points in test data:\",X_test.shape)"
   ]
  },
  {
   "cell_type": "code",
   "execution_count": 8,
   "id": "3ec46fc2",
   "metadata": {
    "execution": {
     "iopub.execute_input": "2021-10-06T17:43:19.823744Z",
     "iopub.status.busy": "2021-10-06T17:43:19.822878Z",
     "iopub.status.idle": "2021-10-06T17:43:19.844596Z",
     "shell.execute_reply": "2021-10-06T17:43:19.844020Z",
     "shell.execute_reply.started": "2021-10-06T16:35:35.271899Z"
    },
    "papermill": {
     "duration": 0.053352,
     "end_time": "2021-10-06T17:43:19.844730",
     "exception": false,
     "start_time": "2021-10-06T17:43:19.791378",
     "status": "completed"
    },
    "tags": []
   },
   "outputs": [
    {
     "name": "stdout",
     "output_type": "stream",
     "text": [
      "---------- Distribution of output variable in train data ----------\n",
      "Class 0:  0.6274571428571428 Class 1:  0.3725428571428571\n",
      "---------- Distribution of output variable in train data ----------\n",
      "Class 0:  0.3725333333333333 Class 1:  0.3725333333333333\n"
     ]
    }
   ],
   "source": [
    "print(\"-\"*10, \"Distribution of output variable in train data\", \"-\"*10)\n",
    "train_distr = Counter(y_train)\n",
    "train_len = len(y_train)\n",
    "print(\"Class 0: \",int(train_distr[0])/train_len,\"Class 1: \", int(train_distr[1])/train_len)\n",
    "print(\"-\"*10, \"Distribution of output variable in train data\", \"-\"*10)\n",
    "test_distr = Counter(y_test)\n",
    "test_len = len(y_test)\n",
    "print(\"Class 0: \",int(test_distr[1])/test_len, \"Class 1: \",int(test_distr[1])/test_len)"
   ]
  },
  {
   "cell_type": "code",
   "execution_count": 9,
   "id": "467a0edd",
   "metadata": {
    "execution": {
     "iopub.execute_input": "2021-10-06T17:43:19.905595Z",
     "iopub.status.busy": "2021-10-06T17:43:19.905010Z",
     "iopub.status.idle": "2021-10-06T17:43:19.914015Z",
     "shell.execute_reply": "2021-10-06T17:43:19.913460Z",
     "shell.execute_reply.started": "2021-10-06T16:35:35.298189Z"
    },
    "papermill": {
     "duration": 0.04058,
     "end_time": "2021-10-06T17:43:19.914156",
     "exception": false,
     "start_time": "2021-10-06T17:43:19.873576",
     "status": "completed"
    },
    "tags": []
   },
   "outputs": [],
   "source": [
    "# This function plots the confusion matrices given y_i, y_i_hat.\n",
    "def plot_confusion_matrix(test_y, predict_y):\n",
    "    \"\"\"\n",
    "    This function uses Seaborn Heatmap(s) to plot 3 different matrices. It plots the \n",
    "    Confusion Matrix, Precision Matrix and the Recall Matrix. The confusion matrix is as usual.\n",
    "    In the Precision Matrix, the sum of the values in each column is 1. Similarly, in the\n",
    "    Recall Matrix, the sum of the values in each row is 1.\n",
    "    \"\"\"\n",
    "    \n",
    "    C = confusion_matrix(test_y, predict_y)\n",
    "    # Divide each element of the confusion matrix with the sum of elements in that column\n",
    "    A = (((C.T)/(C.sum(axis=1))).T)\n",
    "    # Divide each element of the confusion matrix with the sum of elements in that row\n",
    "    B = (C/C.sum(axis=0))\n",
    "\n",
    "    plt.figure(figsize=(12,10))\n",
    "    \n",
    "    labels = [0,1]\n",
    "    cmap=sns.light_palette(\"blue\")\n",
    "    \n",
    "    # Representing C in heatmap format\n",
    "    plt.subplot(2, 2, 1)\n",
    "    sns.heatmap(C, annot=True, cmap=cmap, fmt=\".3f\", xticklabels=labels, yticklabels=labels)\n",
    "    plt.xlabel('Predicted Class')\n",
    "    plt.ylabel('Original Class')\n",
    "    plt.title(\"Confusion matrix\")\n",
    "    \n",
    "    # Representing B in heatmap format\n",
    "    plt.subplot(2, 2, 2)\n",
    "    sns.heatmap(B, annot=True, cmap=cmap, fmt=\".3f\", xticklabels=labels, yticklabels=labels)\n",
    "    plt.xlabel('Predicted Class')\n",
    "    plt.ylabel('Original Class')\n",
    "    plt.title(\"Precision matrix\")\n",
    "    \n",
    "    # Representing A in heatmap format\n",
    "    plt.subplot(2, 2, 3)\n",
    "    sns.heatmap(A, annot=True, cmap=cmap, fmt=\".3f\", xticklabels=labels, yticklabels=labels)\n",
    "    plt.xlabel('Predicted Class')\n",
    "    plt.ylabel('Original Class')\n",
    "    plt.title(\"Recall matrix\")\n",
    "    \n",
    "    plt.show()"
   ]
  },
  {
   "cell_type": "markdown",
   "id": "a3085984",
   "metadata": {
    "papermill": {
     "duration": 0.028343,
     "end_time": "2021-10-06T17:43:19.971095",
     "exception": false,
     "start_time": "2021-10-06T17:43:19.942752",
     "status": "completed"
    },
    "tags": []
   },
   "source": [
    "## 4.4 Building a random model (Finding worst-case log-loss)"
   ]
  },
  {
   "cell_type": "code",
   "execution_count": 10,
   "id": "95da7115",
   "metadata": {
    "execution": {
     "iopub.execute_input": "2021-10-06T17:43:20.038113Z",
     "iopub.status.busy": "2021-10-06T17:43:20.036559Z",
     "iopub.status.idle": "2021-10-06T17:43:20.863387Z",
     "shell.execute_reply": "2021-10-06T17:43:20.862925Z",
     "shell.execute_reply.started": "2021-10-06T16:35:35.310548Z"
    },
    "papermill": {
     "duration": 0.863929,
     "end_time": "2021-10-06T17:43:20.863542",
     "exception": false,
     "start_time": "2021-10-06T17:43:19.999613",
     "status": "completed"
    },
    "tags": []
   },
   "outputs": [
    {
     "name": "stdout",
     "output_type": "stream",
     "text": [
      "Log loss on Test Data using Random Model 0.8841404025689801\n"
     ]
    },
    {
     "data": {
      "image/png": "[encoded data removed]",
      "text/plain": [
       "<Figure size 864x720 with 6 Axes>"
      ]
     },
     "metadata": {
      "needs_background": "light"
     },
     "output_type": "display_data"
    }
   ],
   "source": [
    "# We need to generate 9 numbers and the sum of numbers should be 1\n",
    "# one solution is to genarate 9 numbers and divide each of the numbers by their sum\n",
    "# ref: https://stackoverflow.com/a/18662466/4084039\n",
    "# We create an output array that has exactly same size as the CV data\n",
    "predicted_y = np.zeros((test_len, 2))\n",
    "for i in range(test_len):\n",
    "    rand_probs = np.random.rand(1,2)\n",
    "    predicted_y[i] = ((rand_probs / sum(sum(rand_probs)))[0])\n",
    "print(\"Log loss on Test Data using Random Model\", log_loss(y_test, predicted_y, eps=1e-15))\n",
    "\n",
    "predicted_y = np.argmax(predicted_y, axis=1)\n",
    "plot_confusion_matrix(y_test, predicted_y)"
   ]
  },
  {
   "cell_type": "markdown",
   "id": "5233c0a8",
   "metadata": {
    "papermill": {
     "duration": 0.029584,
     "end_time": "2021-10-06T17:43:20.923871",
     "exception": false,
     "start_time": "2021-10-06T17:43:20.894287",
     "status": "completed"
    },
    "tags": []
   },
   "source": [
    "## 4.5 Logistic Regression with hyperparameter tuning"
   ]
  },
  {
   "cell_type": "code",
   "execution_count": 11,
   "id": "84d75ca2",
   "metadata": {
    "execution": {
     "iopub.execute_input": "2021-10-06T17:43:20.989446Z",
     "iopub.status.busy": "2021-10-06T17:43:20.988486Z",
     "iopub.status.idle": "2021-10-06T17:43:20.990548Z",
     "shell.execute_reply": "2021-10-06T17:43:20.990978Z",
     "shell.execute_reply.started": "2021-10-06T16:35:36.229634Z"
    },
    "papermill": {
     "duration": 0.036948,
     "end_time": "2021-10-06T17:43:20.991127",
     "exception": false,
     "start_time": "2021-10-06T17:43:20.954179",
     "status": "completed"
    },
    "tags": []
   },
   "outputs": [],
   "source": [
    "# # Hyper-parameters for SGD classifier\n",
    "# alpha = [10 ** x for x in range(-5, 2)] \n",
    "\n",
    "# # Read more about SGDClassifier() at\n",
    "# # http://scikit-learn.org/stable/modules/generated/sklearn.linear_model.SGDClassifier.html\n",
    "\n",
    "# log_error_array=[]\n",
    "# for i in alpha:\n",
    "#     clf = SGDClassifier(alpha=i, penalty='l2', loss='log', random_state=42)\n",
    "#     clf.fit(X_train, y_train)\n",
    "#     sig_clf = CalibratedClassifierCV(clf, method=\"sigmoid\")\n",
    "#     sig_clf.fit(X_train, y_train)\n",
    "#     predict_y = sig_clf.predict_proba(X_test)\n",
    "#     log_error_array.append(log_loss(y_test, predict_y, labels = clf.classes_))\n",
    "#     print('Alpha:', i, \"Log loss:\", log_loss(y_test, predict_y, labels = clf.classes_))\n",
    "\n",
    "# fig, ax = plt.subplots()\n",
    "# ax.plot(alpha, log_error_array,c='g')\n",
    "# for i, txt in enumerate(np.round(log_error_array, 3)):\n",
    "#     ax.annotate((alpha[i], np.round(txt,3)), (alpha[i], log_error_array[i]))\n",
    "# plt.grid()\n",
    "# plt.title(\"Cross Validation Error for each alpha\")\n",
    "# plt.xlabel(\"Alpha(s)\")\n",
    "# plt.ylabel(\"Error measure\")\n",
    "# plt.show()\n",
    "\n",
    "# best_alpha = np.argmin(log_error_array)\n",
    "# clf = SGDClassifier(alpha=alpha[best_alpha], penalty='l2', loss='log', random_state=42)\n",
    "# clf.fit(X_train, y_train)\n",
    "# sig_clf = CalibratedClassifierCV(clf, method=\"sigmoid\")\n",
    "# sig_clf.fit(X_train, y_train)"
   ]
  },
  {
   "cell_type": "code",
   "execution_count": 12,
   "id": "c3875c66",
   "metadata": {
    "execution": {
     "iopub.execute_input": "2021-10-06T17:43:21.055003Z",
     "iopub.status.busy": "2021-10-06T17:43:21.054370Z",
     "iopub.status.idle": "2021-10-06T17:43:21.070188Z",
     "shell.execute_reply": "2021-10-06T17:43:21.069083Z",
     "shell.execute_reply.started": "2021-10-06T16:35:36.237276Z"
    },
    "papermill": {
     "duration": 0.049469,
     "end_time": "2021-10-06T17:43:21.070331",
     "exception": false,
     "start_time": "2021-10-06T17:43:21.020862",
     "status": "completed"
    },
    "tags": []
   },
   "outputs": [],
   "source": [
    "# Saving the Model\n",
    "# dump(sig_clf, 'logistic_regression.joblib')\n",
    "\n",
    "# Loading the Model\n",
    "sig_clf = load('../input/d/elemento/quora-question-pairs/logistic_regression.joblib')"
   ]
  },
  {
   "cell_type": "code",
   "execution_count": 13,
   "id": "7fbf757c",
   "metadata": {
    "execution": {
     "iopub.execute_input": "2021-10-06T17:43:21.139086Z",
     "iopub.status.busy": "2021-10-06T17:43:21.132884Z",
     "iopub.status.idle": "2021-10-06T17:43:22.045184Z",
     "shell.execute_reply": "2021-10-06T17:43:22.045618Z",
     "shell.execute_reply.started": "2021-10-06T16:35:36.25717Z"
    },
    "papermill": {
     "duration": 0.945546,
     "end_time": "2021-10-06T17:43:22.045794",
     "exception": false,
     "start_time": "2021-10-06T17:43:21.100248",
     "status": "completed"
    },
    "tags": []
   },
   "outputs": [
    {
     "name": "stdout",
     "output_type": "stream",
     "text": [
      "Best Alpha: 0.01, Train log loss: 0.44120610102530256\n",
      "Best Alpha: 0.01, Test log loss: 0.4433159940253536\n",
      "Total number of data points: 30000\n"
     ]
    },
    {
     "data": {
      "image/png": "[encoded data removed]",
      "text/plain": [
       "<Figure size 864x720 with 6 Axes>"
      ]
     },
     "metadata": {
      "needs_background": "light"
     },
     "output_type": "display_data"
    }
   ],
   "source": [
    "predict_y = sig_clf.predict_proba(X_train)\n",
    "print(\"Best Alpha: 0.01, Train log loss:\",log_loss(y_train, predict_y, labels=sig_clf.classes_))\n",
    "predict_y = sig_clf.predict_proba(X_test)\n",
    "print(\"Best Alpha: 0.01, Test log loss:\",log_loss(y_test, predict_y, labels=sig_clf.classes_))\n",
    "predicted_y = np.argmax(predict_y, axis=1)\n",
    "print(\"Total number of data points:\", len(predicted_y))\n",
    "plot_confusion_matrix(y_test, predicted_y)"
   ]
  },
  {
   "cell_type": "markdown",
   "id": "6255a37d",
   "metadata": {
    "papermill": {
     "duration": 0.031662,
     "end_time": "2021-10-06T17:43:22.109058",
     "exception": false,
     "start_time": "2021-10-06T17:43:22.077396",
     "status": "completed"
    },
    "tags": []
   },
   "source": [
    "## 4.6 Linear SVM with hyperparameter tuning"
   ]
  },
  {
   "cell_type": "code",
   "execution_count": 14,
   "id": "68662627",
   "metadata": {
    "execution": {
     "iopub.execute_input": "2021-10-06T17:43:22.176875Z",
     "iopub.status.busy": "2021-10-06T17:43:22.175930Z",
     "iopub.status.idle": "2021-10-06T17:43:22.178549Z",
     "shell.execute_reply": "2021-10-06T17:43:22.178118Z",
     "shell.execute_reply.started": "2021-10-06T16:35:37.307607Z"
    },
    "papermill": {
     "duration": 0.03826,
     "end_time": "2021-10-06T17:43:22.178677",
     "exception": false,
     "start_time": "2021-10-06T17:43:22.140417",
     "status": "completed"
    },
    "tags": []
   },
   "outputs": [],
   "source": [
    "# # Hyper-parameters for SGD classifier\n",
    "# alpha = [10 ** x for x in range(-5, 2)]\n",
    "\n",
    "# # Read more about SGDClassifier() at\n",
    "# # http://scikit-learn.org/stable/modules/generated/sklearn.linear_model.SGDClassifier.html\n",
    "\n",
    "# log_error_array=[]\n",
    "# for i in alpha:\n",
    "#     clf = SGDClassifier(alpha=i, penalty='l1', loss='hinge', random_state=42)\n",
    "#     clf.fit(X_train, y_train)\n",
    "#     sig_clf = CalibratedClassifierCV(clf, method=\"sigmoid\")\n",
    "#     sig_clf.fit(X_train, y_train)\n",
    "#     predict_y = sig_clf.predict_proba(X_test)\n",
    "#     log_error_array.append(log_loss(y_test, predict_y, labels=clf.classes_))\n",
    "#     print('Alpha:', i, \"Log loss:\", log_loss(y_test, predict_y, labels = clf.classes_, eps=1e-15))\n",
    "\n",
    "# fig, ax = plt.subplots()\n",
    "# ax.plot(alpha, log_error_array,c='g')\n",
    "# for i, txt in enumerate(np.round(log_error_array,3)):\n",
    "#     ax.annotate((alpha[i],np.round(txt,3)), (alpha[i],log_error_array[i]))\n",
    "# plt.grid()\n",
    "# plt.title(\"Cross Validation Error for each alpha\")\n",
    "# plt.xlabel(\"Alpha(s)\")\n",
    "# plt.ylabel(\"Error measure\")\n",
    "# plt.show()\n",
    "\n",
    "# best_alpha = np.argmin(log_error_array)\n",
    "# clf = SGDClassifier(alpha=alpha[best_alpha], penalty='l1', loss='hinge', random_state=42)\n",
    "# clf.fit(X_train, y_train)\n",
    "# sig_clf = CalibratedClassifierCV(clf, method=\"sigmoid\")\n",
    "# sig_clf.fit(X_train, y_train)"
   ]
  },
  {
   "cell_type": "code",
   "execution_count": 15,
   "id": "8cbced6a",
   "metadata": {
    "execution": {
     "iopub.execute_input": "2021-10-06T17:43:22.256343Z",
     "iopub.status.busy": "2021-10-06T17:43:22.255014Z",
     "iopub.status.idle": "2021-10-06T17:43:22.271238Z",
     "shell.execute_reply": "2021-10-06T17:43:22.272209Z",
     "shell.execute_reply.started": "2021-10-06T16:35:37.314402Z"
    },
    "papermill": {
     "duration": 0.062807,
     "end_time": "2021-10-06T17:43:22.272460",
     "exception": false,
     "start_time": "2021-10-06T17:43:22.209653",
     "status": "completed"
    },
    "tags": []
   },
   "outputs": [],
   "source": [
    "# Saving the Model\n",
    "# dump(sig_clf, 'linear_svm.joblib')\n",
    "\n",
    "# Loading the Model\n",
    "sig_clf = load('../input/d/elemento/quora-question-pairs/linear_svm.joblib')"
   ]
  },
  {
   "cell_type": "code",
   "execution_count": 16,
   "id": "92b9f256",
   "metadata": {
    "execution": {
     "iopub.execute_input": "2021-10-06T17:43:22.356685Z",
     "iopub.status.busy": "2021-10-06T17:43:22.356068Z",
     "iopub.status.idle": "2021-10-06T17:43:23.257297Z",
     "shell.execute_reply": "2021-10-06T17:43:23.257729Z",
     "shell.execute_reply.started": "2021-10-06T16:35:37.334965Z"
    },
    "papermill": {
     "duration": 0.940273,
     "end_time": "2021-10-06T17:43:23.257895",
     "exception": false,
     "start_time": "2021-10-06T17:43:22.317622",
     "status": "completed"
    },
    "tags": []
   },
   "outputs": [
    {
     "name": "stdout",
     "output_type": "stream",
     "text": [
      "Best Alpha: 0.01, Train log loss: 0.4760406304410249\n",
      "Best Alpha: 0.01, Test log loss: 0.4786341697884366\n",
      "Total number of data points: 30000\n"
     ]
    },
    {
     "data": {
      "image/png": "[encoded data removed]",
      "text/plain": [
       "<Figure size 864x720 with 6 Axes>"
      ]
     },
     "metadata": {
      "needs_background": "light"
     },
     "output_type": "display_data"
    }
   ],
   "source": [
    "predict_y = sig_clf.predict_proba(X_train)\n",
    "print(\"Best Alpha: 0.01, Train log loss:\", log_loss(y_train, predict_y, labels=sig_clf.classes_))\n",
    "predict_y = sig_clf.predict_proba(X_test)\n",
    "print(\"Best Alpha: 0.01, Test log loss:\", log_loss(y_test, predict_y, labels=sig_clf.classes_))\n",
    "predicted_y = np.argmax(predict_y, axis=1)\n",
    "print(\"Total number of data points:\", len(predicted_y))\n",
    "plot_confusion_matrix(y_test, predicted_y)"
   ]
  },
  {
   "cell_type": "markdown",
   "id": "44e28a7d",
   "metadata": {
    "papermill": {
     "duration": 0.032729,
     "end_time": "2021-10-06T17:43:23.323996",
     "exception": false,
     "start_time": "2021-10-06T17:43:23.291267",
     "status": "completed"
    },
    "tags": []
   },
   "source": [
    "- We have a 218-dimensional dataset, which can be considered as neither very high, nor very low. In such cases, we can try both Linear Models as well as more complex models, like GBDT, to make sure that our linear models are not under-fitting."
   ]
  },
  {
   "cell_type": "markdown",
   "id": "a01a0dba",
   "metadata": {
    "papermill": {
     "duration": 0.032441,
     "end_time": "2021-10-06T17:43:23.389450",
     "exception": false,
     "start_time": "2021-10-06T17:43:23.357009",
     "status": "completed"
    },
    "tags": []
   },
   "source": [
    "## 4.7 XGBoost"
   ]
  },
  {
   "cell_type": "code",
   "execution_count": 17,
   "id": "85995d4c",
   "metadata": {
    "execution": {
     "iopub.execute_input": "2021-10-06T17:43:23.457818Z",
     "iopub.status.busy": "2021-10-06T17:43:23.457237Z",
     "iopub.status.idle": "2021-10-06T17:43:23.812132Z",
     "shell.execute_reply": "2021-10-06T17:43:23.812692Z",
     "shell.execute_reply.started": "2021-10-06T16:35:38.358553Z"
    },
    "papermill": {
     "duration": 0.390772,
     "end_time": "2021-10-06T17:43:23.812884",
     "exception": false,
     "start_time": "2021-10-06T17:43:23.422112",
     "status": "completed"
    },
    "scrolled": true,
    "tags": []
   },
   "outputs": [],
   "source": [
    "# params = {}\n",
    "# params['objective'] = 'binary:logistic'\n",
    "# params['eval_metric'] = 'logloss'\n",
    "# params['eta'] = 0.02\n",
    "# params['max_depth'] = 4\n",
    "\n",
    "d_train = xgb.DMatrix(X_train, label = y_train)\n",
    "d_test = xgb.DMatrix(X_test, label = y_test)\n",
    "\n",
    "# watchlist = [(d_train, 'train'), (d_test, 'valid')]\n",
    "# bst = xgb.train(params, d_train, 400, watchlist, early_stopping_rounds=20, verbose_eval=10)"
   ]
  },
  {
   "cell_type": "code",
   "execution_count": 18,
   "id": "dde7924e",
   "metadata": {
    "execution": {
     "iopub.execute_input": "2021-10-06T17:43:23.883748Z",
     "iopub.status.busy": "2021-10-06T17:43:23.883122Z",
     "iopub.status.idle": "2021-10-06T17:43:23.952357Z",
     "shell.execute_reply": "2021-10-06T17:43:23.951890Z",
     "shell.execute_reply.started": "2021-10-06T16:35:38.73096Z"
    },
    "papermill": {
     "duration": 0.106508,
     "end_time": "2021-10-06T17:43:23.952521",
     "exception": false,
     "start_time": "2021-10-06T17:43:23.846013",
     "status": "completed"
    },
    "tags": []
   },
   "outputs": [],
   "source": [
    "# Saving the Model\n",
    "# dump(bst, 'xg_boost.joblib')\n",
    "\n",
    "# Loading the Model\n",
    "bst = load('../input/d/elemento/quora-question-pairs/xg_boost.joblib')"
   ]
  },
  {
   "cell_type": "code",
   "execution_count": 19,
   "id": "8b8cdd37",
   "metadata": {
    "execution": {
     "iopub.execute_input": "2021-10-06T17:43:24.028790Z",
     "iopub.status.busy": "2021-10-06T17:43:24.027417Z",
     "iopub.status.idle": "2021-10-06T17:43:25.059224Z",
     "shell.execute_reply": "2021-10-06T17:43:25.059708Z",
     "shell.execute_reply.started": "2021-10-06T16:35:38.803656Z"
    },
    "papermill": {
     "duration": 1.074048,
     "end_time": "2021-10-06T17:43:25.059875",
     "exception": false,
     "start_time": "2021-10-06T17:43:23.985827",
     "status": "completed"
    },
    "tags": []
   },
   "outputs": [
    {
     "name": "stdout",
     "output_type": "stream",
     "text": [
      "Test log loss: 0.3520659654900257\n",
      "Total number of data points: 30000\n"
     ]
    },
    {
     "data": {
      "image/png": "[encoded data removed]",
      "text/plain": [
       "<Figure size 864x720 with 6 Axes>"
      ]
     },
     "metadata": {
      "needs_background": "light"
     },
     "output_type": "display_data"
    }
   ],
   "source": [
    "xgdmat = xgb.DMatrix(X_train,y_train)\n",
    "predict_y = bst.predict(d_test)\n",
    "print(\"Test log loss:\", log_loss(y_test, predict_y, labels = [0, 1]))\n",
    "predicted_y = np.array(predict_y > 0.5, dtype=int)\n",
    "print(\"Total number of data points:\", len(predicted_y))\n",
    "plot_confusion_matrix(y_test, predicted_y)"
   ]
  },
  {
   "cell_type": "markdown",
   "id": "d2bab70c",
   "metadata": {
    "papermill": {
     "duration": 0.034392,
     "end_time": "2021-10-06T17:43:25.129595",
     "exception": false,
     "start_time": "2021-10-06T17:43:25.095203",
     "status": "completed"
    },
    "tags": []
   },
   "source": [
    "# 5. Modeling Continues\n",
    "1. Perform hyperparameter tuning  of XgBoost models using RandomsearchCV with vectorizer as TF-IDF W2V  to reduce the log-loss.\n",
    "2. Try out models (Logistic regression, Linear-SVM) with simple TF-IDF vectors instead of TD_IDF weighted word2Vec.\n",
    "\n",
    "## 5.1 Hyper-parameter tuning of XGBoost with TF-IDF W2V"
   ]
  },
  {
   "cell_type": "code",
   "execution_count": 20,
   "id": "eb901824",
   "metadata": {
    "execution": {
     "iopub.execute_input": "2021-10-06T17:43:25.201030Z",
     "iopub.status.busy": "2021-10-06T17:43:25.200440Z",
     "iopub.status.idle": "2021-10-06T17:43:25.203103Z",
     "shell.execute_reply": "2021-10-06T17:43:25.203612Z",
     "shell.execute_reply.started": "2021-10-06T16:35:39.957645Z"
    },
    "papermill": {
     "duration": 0.039969,
     "end_time": "2021-10-06T17:43:25.203775",
     "exception": false,
     "start_time": "2021-10-06T17:43:25.163806",
     "status": "completed"
    },
    "scrolled": true,
    "tags": []
   },
   "outputs": [],
   "source": [
    "# params = {\n",
    "#     'n_estimators': [50, 100, 150],\n",
    "#     'max_depth': [15, 20, None], \n",
    "#     'objective': ['binary:logistic'],\n",
    "#     'eval_metric': ['logloss'],\n",
    "# }\n",
    "\n",
    "# xgbr = xgb.XGBClassifier(verbosity = 1)\n",
    "# clf = RandomizedSearchCV(xgbr, params)\n",
    "# clf.fit(X_train, y_train)\n",
    "# print(clf.best_params_)"
   ]
  },
  {
   "cell_type": "code",
   "execution_count": 21,
   "id": "93b1a970",
   "metadata": {
    "execution": {
     "iopub.execute_input": "2021-10-06T17:43:25.276108Z",
     "iopub.status.busy": "2021-10-06T17:43:25.275560Z",
     "iopub.status.idle": "2021-10-06T17:43:25.278217Z",
     "shell.execute_reply": "2021-10-06T17:43:25.278809Z",
     "shell.execute_reply.started": "2021-10-06T16:35:39.963515Z"
    },
    "papermill": {
     "duration": 0.04075,
     "end_time": "2021-10-06T17:43:25.278978",
     "exception": false,
     "start_time": "2021-10-06T17:43:25.238228",
     "status": "completed"
    },
    "tags": []
   },
   "outputs": [],
   "source": [
    "# The best hyper-parameters are as follows:\n",
    "# n_estimators = 150, max_depth = 15, eval_metric = logloss\n",
    "\n",
    "# Training XGBClassifier with the best hyper-parameters\n",
    "# xgbr = xgb.XGBClassifier(verbosity = 1, n_estimators = 150, max_depth = 15, \n",
    "#     objective = 'binary:logistic', eval_metric = 'logloss')\n",
    "# xgbr.fit(X_train, y_train)"
   ]
  },
  {
   "cell_type": "code",
   "execution_count": 22,
   "id": "f007c8c3",
   "metadata": {
    "execution": {
     "iopub.execute_input": "2021-10-06T17:43:25.352088Z",
     "iopub.status.busy": "2021-10-06T17:43:25.351512Z",
     "iopub.status.idle": "2021-10-06T17:43:25.834632Z",
     "shell.execute_reply": "2021-10-06T17:43:25.834120Z",
     "shell.execute_reply.started": "2021-10-06T16:35:39.997527Z"
    },
    "papermill": {
     "duration": 0.520207,
     "end_time": "2021-10-06T17:43:25.834773",
     "exception": false,
     "start_time": "2021-10-06T17:43:25.314566",
     "status": "completed"
    },
    "tags": []
   },
   "outputs": [],
   "source": [
    "# Saving the Model\n",
    "# dump(xgbr, 'xgb_classifier_hpt.joblib')\n",
    "\n",
    "# Loading the Model\n",
    "xgbr = load('../input/d/elemento/quora-question-pairs/xgb_classifier_hpt.joblib')"
   ]
  },
  {
   "cell_type": "code",
   "execution_count": 23,
   "id": "f50e5e08",
   "metadata": {
    "execution": {
     "iopub.execute_input": "2021-10-06T17:43:25.906710Z",
     "iopub.status.busy": "2021-10-06T17:43:25.906128Z",
     "iopub.status.idle": "2021-10-06T17:43:27.146549Z",
     "shell.execute_reply": "2021-10-06T17:43:27.146956Z",
     "shell.execute_reply.started": "2021-10-06T16:35:40.456104Z"
    },
    "papermill": {
     "duration": 1.278008,
     "end_time": "2021-10-06T17:43:27.147134",
     "exception": false,
     "start_time": "2021-10-06T17:43:25.869126",
     "status": "completed"
    },
    "tags": []
   },
   "outputs": [
    {
     "name": "stdout",
     "output_type": "stream",
     "text": [
      "n_estimators: , max_depth: , Train log loss: 0.1314686997311666\n",
      "n_estimators: , max_depth: , Test log loss: 0.12997857934723875\n",
      "Total number of data points: 30000\n"
     ]
    },
    {
     "data": {
      "image/png": "[encoded data removed]",
      "text/plain": [
       "<Figure size 864x720 with 6 Axes>"
      ]
     },
     "metadata": {
      "needs_background": "light"
     },
     "output_type": "display_data"
    }
   ],
   "source": [
    "predict_y = xgbr.predict_proba(X_train)\n",
    "print(\"n_estimators: , max_depth: , Train log loss:\", log_loss(y_train, predict_y, labels=[0,1]))\n",
    "predict_y = xgbr.predict_proba(X_test)\n",
    "print(\"n_estimators: , max_depth: , Test log loss:\", log_loss(y_test, predict_y, labels=[0,1]))\n",
    "predicted_y = np.argmax(predict_y, axis=1)\n",
    "print(\"Total number of data points:\", len(predicted_y))\n",
    "plot_confusion_matrix(y_test, predicted_y)"
   ]
  },
  {
   "cell_type": "markdown",
   "id": "9f93ebe9",
   "metadata": {
    "papermill": {
     "duration": 0.035896,
     "end_time": "2021-10-06T17:43:27.218937",
     "exception": false,
     "start_time": "2021-10-06T17:43:27.183041",
     "status": "completed"
    },
    "tags": []
   },
   "source": [
    "## 5.2 Trying out LR, Linear-SVM with TF-IDF"
   ]
  },
  {
   "cell_type": "code",
   "execution_count": 24,
   "id": "2788e676",
   "metadata": {
    "execution": {
     "iopub.execute_input": "2021-10-06T17:43:27.295002Z",
     "iopub.status.busy": "2021-10-06T17:43:27.294425Z",
     "iopub.status.idle": "2021-10-06T17:43:27.296525Z",
     "shell.execute_reply": "2021-10-06T17:43:27.296097Z",
     "shell.execute_reply.started": "2021-10-06T16:35:41.814843Z"
    },
    "papermill": {
     "duration": 0.041762,
     "end_time": "2021-10-06T17:43:27.296654",
     "exception": false,
     "start_time": "2021-10-06T17:43:27.254892",
     "status": "completed"
    },
    "tags": []
   },
   "outputs": [],
   "source": [
    "# # Using TF-IDF\n",
    "# df = pd.read_csv(\"../input/quora-question-pairs/train.csv.zip\")\n",
    "# df.dropna(axis = 0, subset = ['question1', 'question2'], inplace = True)\n",
    "# print(df.shape)\n",
    "# df.head()"
   ]
  },
  {
   "cell_type": "code",
   "execution_count": 25,
   "id": "a4c10669",
   "metadata": {
    "execution": {
     "iopub.execute_input": "2021-10-06T17:43:27.371200Z",
     "iopub.status.busy": "2021-10-06T17:43:27.370673Z",
     "iopub.status.idle": "2021-10-06T17:43:27.373249Z",
     "shell.execute_reply": "2021-10-06T17:43:27.373753Z",
     "shell.execute_reply.started": "2021-10-06T16:35:41.819617Z"
    },
    "papermill": {
     "duration": 0.041354,
     "end_time": "2021-10-06T17:43:27.373920",
     "exception": false,
     "start_time": "2021-10-06T17:43:27.332566",
     "status": "completed"
    },
    "tags": []
   },
   "outputs": [],
   "source": [
    "# # Merge the Questions\n",
    "# questions = list(df['question1']) + list(df['question2'])\n",
    "\n",
    "# tfidf = TfidfVectorizer(min_df = 5, max_features = 500)\n",
    "# tfidf.fit(questions)\n",
    "\n",
    "# q1 = tfidf.transform(df['question1'])\n",
    "# q2 = tfidf.transform(df['question2'])\n",
    "# print(q1.shape, q2.shape)"
   ]
  },
  {
   "cell_type": "code",
   "execution_count": 26,
   "id": "98e11857",
   "metadata": {
    "execution": {
     "iopub.execute_input": "2021-10-06T17:43:27.448185Z",
     "iopub.status.busy": "2021-10-06T17:43:27.447643Z",
     "iopub.status.idle": "2021-10-06T17:43:27.450455Z",
     "shell.execute_reply": "2021-10-06T17:43:27.450970Z",
     "shell.execute_reply.started": "2021-10-06T16:35:41.833198Z"
    },
    "papermill": {
     "duration": 0.041438,
     "end_time": "2021-10-06T17:43:27.451135",
     "exception": false,
     "start_time": "2021-10-06T17:43:27.409697",
     "status": "completed"
    },
    "tags": []
   },
   "outputs": [],
   "source": [
    "# dfnlp = pd.read_csv(\"../input/d/elemento/quora-question-pairs/nlp_features_train.csv\",encoding='latin-1')\n",
    "# dfppro = pd.read_csv(\"../input/d/elemento/quora-question-pairs/df_fe_without_preprocessing_train.csv\",encoding='latin-1')\n",
    "# df1 = dfnlp.drop(['qid1','qid2','question1','question2'],axis=1)\n",
    "# df2 = dfppro.drop(['qid1','qid2','question1','question2','is_duplicate'],axis=1)\n",
    "# df3 = df.drop(['qid1','qid2','question1','question2','is_duplicate'],axis=1)\n",
    "\n",
    "# # Creating a DataFrame for the TF-IDF feature vectors\n",
    "# df3_q1 = pd.DataFrame.sparse.from_spmatrix(q1, index = df3.index)\n",
    "# df3_q2 = pd.DataFrame.sparse.from_spmatrix(q2, index = df3.index)\n",
    "# print(df3_q1.shape, df3_q2.shape)"
   ]
  },
  {
   "cell_type": "code",
   "execution_count": 27,
   "id": "73bc1314",
   "metadata": {
    "execution": {
     "iopub.execute_input": "2021-10-06T17:43:27.526972Z",
     "iopub.status.busy": "2021-10-06T17:43:27.526419Z",
     "iopub.status.idle": "2021-10-06T17:43:27.529098Z",
     "shell.execute_reply": "2021-10-06T17:43:27.529604Z",
     "shell.execute_reply.started": "2021-10-06T16:35:41.845804Z"
    },
    "papermill": {
     "duration": 0.042634,
     "end_time": "2021-10-06T17:43:27.529756",
     "exception": false,
     "start_time": "2021-10-06T17:43:27.487122",
     "status": "completed"
    },
    "tags": []
   },
   "outputs": [],
   "source": [
    "# # Making the Dataset with TF-IDF feature vectors\n",
    "# df3_q1['id'] = df1['id']\n",
    "# df3_q2['id'] = df1['id']\n",
    "# df1  = df1.merge(df2, on='id', how='left')\n",
    "# df2  = df3_q1.merge(df3_q2, on='id', how='left')\n",
    "# result  = df1.merge(df2, on='id', how='left')\n",
    "# result.to_csv('final_features_tfidf.csv')"
   ]
  },
  {
   "cell_type": "code",
   "execution_count": 28,
   "id": "15db4a31",
   "metadata": {
    "execution": {
     "iopub.execute_input": "2021-10-06T17:43:27.604196Z",
     "iopub.status.busy": "2021-10-06T17:43:27.603653Z",
     "iopub.status.idle": "2021-10-06T17:43:39.826695Z",
     "shell.execute_reply": "2021-10-06T17:43:39.827127Z",
     "shell.execute_reply.started": "2021-10-06T16:35:41.864325Z"
    },
    "papermill": {
     "duration": 12.261702,
     "end_time": "2021-10-06T17:43:39.827301",
     "exception": false,
     "start_time": "2021-10-06T17:43:27.565599",
     "status": "completed"
    },
    "tags": []
   },
   "outputs": [
    {
     "name": "stdout",
     "output_type": "stream",
     "text": [
      "(100000, 1029)\n"
     ]
    },
    {
     "data": {
      "text/html": [
       "<div>\n",
       "<style scoped>\n",
       "    .dataframe tbody tr th:only-of-type {\n",
       "        vertical-align: middle;\n",
       "    }\n",
       "\n",
       "    .dataframe tbody tr th {\n",
       "        vertical-align: top;\n",
       "    }\n",
       "\n",
       "    .dataframe thead th {\n",
       "        text-align: right;\n",
       "    }\n",
       "</style>\n",
       "<table border=\"1\" class=\"dataframe\">\n",
       "  <thead>\n",
       "    <tr style=\"text-align: right;\">\n",
       "      <th></th>\n",
       "      <th>Unnamed: 0</th>\n",
       "      <th>id</th>\n",
       "      <th>is_duplicate</th>\n",
       "      <th>cwc_min</th>\n",
       "      <th>cwc_max</th>\n",
       "      <th>csc_min</th>\n",
       "      <th>csc_max</th>\n",
       "      <th>ctc_min</th>\n",
       "      <th>ctc_max</th>\n",
       "      <th>last_word_eq</th>\n",
       "      <th>...</th>\n",
       "      <th>490_y</th>\n",
       "      <th>491_y</th>\n",
       "      <th>492_y</th>\n",
       "      <th>493_y</th>\n",
       "      <th>494_y</th>\n",
       "      <th>495_y</th>\n",
       "      <th>496_y</th>\n",
       "      <th>497_y</th>\n",
       "      <th>498_y</th>\n",
       "      <th>499_y</th>\n",
       "    </tr>\n",
       "  </thead>\n",
       "  <tbody>\n",
       "    <tr>\n",
       "      <th>0</th>\n",
       "      <td>0</td>\n",
       "      <td>0</td>\n",
       "      <td>0</td>\n",
       "      <td>0.999980</td>\n",
       "      <td>0.833319</td>\n",
       "      <td>0.999983</td>\n",
       "      <td>0.999983</td>\n",
       "      <td>0.916659</td>\n",
       "      <td>0.785709</td>\n",
       "      <td>0.0</td>\n",
       "      <td>...</td>\n",
       "      <td>0.0</td>\n",
       "      <td>0.000000</td>\n",
       "      <td>0.0</td>\n",
       "      <td>0.0</td>\n",
       "      <td>0.0</td>\n",
       "      <td>0.0</td>\n",
       "      <td>0.0</td>\n",
       "      <td>0.0</td>\n",
       "      <td>0.0</td>\n",
       "      <td>0.0</td>\n",
       "    </tr>\n",
       "    <tr>\n",
       "      <th>1</th>\n",
       "      <td>1</td>\n",
       "      <td>1</td>\n",
       "      <td>0</td>\n",
       "      <td>0.799984</td>\n",
       "      <td>0.399996</td>\n",
       "      <td>0.749981</td>\n",
       "      <td>0.599988</td>\n",
       "      <td>0.699993</td>\n",
       "      <td>0.466664</td>\n",
       "      <td>0.0</td>\n",
       "      <td>...</td>\n",
       "      <td>0.0</td>\n",
       "      <td>0.323050</td>\n",
       "      <td>0.0</td>\n",
       "      <td>0.0</td>\n",
       "      <td>0.0</td>\n",
       "      <td>0.0</td>\n",
       "      <td>0.0</td>\n",
       "      <td>0.0</td>\n",
       "      <td>0.0</td>\n",
       "      <td>0.0</td>\n",
       "    </tr>\n",
       "    <tr>\n",
       "      <th>2</th>\n",
       "      <td>2</td>\n",
       "      <td>2</td>\n",
       "      <td>0</td>\n",
       "      <td>0.399992</td>\n",
       "      <td>0.333328</td>\n",
       "      <td>0.399992</td>\n",
       "      <td>0.249997</td>\n",
       "      <td>0.399996</td>\n",
       "      <td>0.285712</td>\n",
       "      <td>0.0</td>\n",
       "      <td>...</td>\n",
       "      <td>0.0</td>\n",
       "      <td>0.000000</td>\n",
       "      <td>0.0</td>\n",
       "      <td>0.0</td>\n",
       "      <td>0.0</td>\n",
       "      <td>0.0</td>\n",
       "      <td>0.0</td>\n",
       "      <td>0.0</td>\n",
       "      <td>0.0</td>\n",
       "      <td>0.0</td>\n",
       "    </tr>\n",
       "    <tr>\n",
       "      <th>3</th>\n",
       "      <td>3</td>\n",
       "      <td>3</td>\n",
       "      <td>0</td>\n",
       "      <td>0.000000</td>\n",
       "      <td>0.000000</td>\n",
       "      <td>0.000000</td>\n",
       "      <td>0.000000</td>\n",
       "      <td>0.000000</td>\n",
       "      <td>0.000000</td>\n",
       "      <td>0.0</td>\n",
       "      <td>...</td>\n",
       "      <td>0.0</td>\n",
       "      <td>0.000000</td>\n",
       "      <td>0.0</td>\n",
       "      <td>0.0</td>\n",
       "      <td>0.0</td>\n",
       "      <td>0.0</td>\n",
       "      <td>0.0</td>\n",
       "      <td>0.0</td>\n",
       "      <td>0.0</td>\n",
       "      <td>0.0</td>\n",
       "    </tr>\n",
       "    <tr>\n",
       "      <th>4</th>\n",
       "      <td>4</td>\n",
       "      <td>4</td>\n",
       "      <td>0</td>\n",
       "      <td>0.399992</td>\n",
       "      <td>0.199998</td>\n",
       "      <td>0.999950</td>\n",
       "      <td>0.666644</td>\n",
       "      <td>0.571420</td>\n",
       "      <td>0.307690</td>\n",
       "      <td>0.0</td>\n",
       "      <td>...</td>\n",
       "      <td>0.0</td>\n",
       "      <td>0.499787</td>\n",
       "      <td>0.0</td>\n",
       "      <td>0.0</td>\n",
       "      <td>0.0</td>\n",
       "      <td>0.0</td>\n",
       "      <td>0.0</td>\n",
       "      <td>0.0</td>\n",
       "      <td>0.0</td>\n",
       "      <td>0.0</td>\n",
       "    </tr>\n",
       "  </tbody>\n",
       "</table>\n",
       "<p>5 rows × 1029 columns</p>\n",
       "</div>"
      ],
      "text/plain": [
       "   Unnamed: 0  id  is_duplicate   cwc_min   cwc_max   csc_min   csc_max  \\\n",
       "0           0   0             0  0.999980  0.833319  0.999983  0.999983   \n",
       "1           1   1             0  0.799984  0.399996  0.749981  0.599988   \n",
       "2           2   2             0  0.399992  0.333328  0.399992  0.249997   \n",
       "3           3   3             0  0.000000  0.000000  0.000000  0.000000   \n",
       "4           4   4             0  0.399992  0.199998  0.999950  0.666644   \n",
       "\n",
       "    ctc_min   ctc_max  last_word_eq  ...  490_y     491_y  492_y  493_y  \\\n",
       "0  0.916659  0.785709           0.0  ...    0.0  0.000000    0.0    0.0   \n",
       "1  0.699993  0.466664           0.0  ...    0.0  0.323050    0.0    0.0   \n",
       "2  0.399996  0.285712           0.0  ...    0.0  0.000000    0.0    0.0   \n",
       "3  0.000000  0.000000           0.0  ...    0.0  0.000000    0.0    0.0   \n",
       "4  0.571420  0.307690           0.0  ...    0.0  0.499787    0.0    0.0   \n",
       "\n",
       "   494_y  495_y  496_y  497_y  498_y  499_y  \n",
       "0    0.0    0.0    0.0    0.0    0.0    0.0  \n",
       "1    0.0    0.0    0.0    0.0    0.0    0.0  \n",
       "2    0.0    0.0    0.0    0.0    0.0    0.0  \n",
       "3    0.0    0.0    0.0    0.0    0.0    0.0  \n",
       "4    0.0    0.0    0.0    0.0    0.0    0.0  \n",
       "\n",
       "[5 rows x 1029 columns]"
      ]
     },
     "execution_count": 28,
     "metadata": {},
     "output_type": "execute_result"
    }
   ],
   "source": [
    "# Loading the TF-IDF based Dataset\n",
    "data = pd.read_csv(\"../input/d/elemento/quora-question-pairs/final_features_tfidf.csv\", nrows = 100000)\n",
    "print(data.shape)\n",
    "data.head()"
   ]
  },
  {
   "cell_type": "code",
   "execution_count": 29,
   "id": "b22ee6a3",
   "metadata": {
    "execution": {
     "iopub.execute_input": "2021-10-06T17:43:39.905225Z",
     "iopub.status.busy": "2021-10-06T17:43:39.904343Z",
     "iopub.status.idle": "2021-10-06T17:43:40.145627Z",
     "shell.execute_reply": "2021-10-06T17:43:40.146160Z",
     "shell.execute_reply.started": "2021-10-06T16:35:54.447451Z"
    },
    "papermill": {
     "duration": 0.28227,
     "end_time": "2021-10-06T17:43:40.146322",
     "exception": false,
     "start_time": "2021-10-06T17:43:39.864052",
     "status": "completed"
    },
    "tags": []
   },
   "outputs": [
    {
     "name": "stdout",
     "output_type": "stream",
     "text": [
      "(100000, 1026)\n"
     ]
    }
   ],
   "source": [
    "y_true = data['is_duplicate']\n",
    "data.drop(['Unnamed: 0', 'id','is_duplicate'], axis=1, inplace=True)\n",
    "print(data.shape)"
   ]
  },
  {
   "cell_type": "code",
   "execution_count": 30,
   "id": "72d251f1",
   "metadata": {
    "execution": {
     "iopub.execute_input": "2021-10-06T17:43:40.224046Z",
     "iopub.status.busy": "2021-10-06T17:43:40.223153Z",
     "iopub.status.idle": "2021-10-06T17:43:41.004107Z",
     "shell.execute_reply": "2021-10-06T17:43:41.004535Z",
     "shell.execute_reply.started": "2021-10-06T16:35:54.734511Z"
    },
    "papermill": {
     "duration": 0.821301,
     "end_time": "2021-10-06T17:43:41.004707",
     "exception": false,
     "start_time": "2021-10-06T17:43:40.183406",
     "status": "completed"
    },
    "tags": []
   },
   "outputs": [
    {
     "name": "stdout",
     "output_type": "stream",
     "text": [
      "(70000, 1026) (30000, 1026) (70000,) (30000,)\n"
     ]
    }
   ],
   "source": [
    "X_train, X_test, y_train, y_test = train_test_split(data, y_true, stratify = y_true, test_size = 0.3)\n",
    "print(X_train.shape, X_test.shape, y_train.shape, y_test.shape)"
   ]
  },
  {
   "cell_type": "markdown",
   "id": "e847c73d",
   "metadata": {
    "papermill": {
     "duration": 0.036803,
     "end_time": "2021-10-06T17:43:41.078560",
     "exception": false,
     "start_time": "2021-10-06T17:43:41.041757",
     "status": "completed"
    },
    "tags": []
   },
   "source": [
    "### 5.2.1 Logistic Regression"
   ]
  },
  {
   "cell_type": "code",
   "execution_count": 31,
   "id": "b7f121c7",
   "metadata": {
    "execution": {
     "iopub.execute_input": "2021-10-06T17:43:41.157979Z",
     "iopub.status.busy": "2021-10-06T17:43:41.157054Z",
     "iopub.status.idle": "2021-10-06T17:43:41.159305Z",
     "shell.execute_reply": "2021-10-06T17:43:41.159823Z",
     "shell.execute_reply.started": "2021-10-06T16:35:55.520703Z"
    },
    "papermill": {
     "duration": 0.043534,
     "end_time": "2021-10-06T17:43:41.159978",
     "exception": false,
     "start_time": "2021-10-06T17:43:41.116444",
     "status": "completed"
    },
    "tags": []
   },
   "outputs": [],
   "source": [
    "# # Using the hyper-parameters obtained from the previous hyper-parameter tuning\n",
    "# clf = SGDClassifier(alpha=0.01, penalty='l2', loss='log', random_state=42)\n",
    "# clf.fit(X_train, y_train)\n",
    "# sig_clf = CalibratedClassifierCV(clf, method=\"sigmoid\")\n",
    "# sig_clf.fit(X_train, y_train)"
   ]
  },
  {
   "cell_type": "code",
   "execution_count": 32,
   "id": "522afc98",
   "metadata": {
    "execution": {
     "iopub.execute_input": "2021-10-06T17:43:41.239352Z",
     "iopub.status.busy": "2021-10-06T17:43:41.238523Z",
     "iopub.status.idle": "2021-10-06T17:43:41.252108Z",
     "shell.execute_reply": "2021-10-06T17:43:41.252707Z",
     "shell.execute_reply.started": "2021-10-06T16:35:55.52588Z"
    },
    "papermill": {
     "duration": 0.054212,
     "end_time": "2021-10-06T17:43:41.252875",
     "exception": false,
     "start_time": "2021-10-06T17:43:41.198663",
     "status": "completed"
    },
    "tags": []
   },
   "outputs": [],
   "source": [
    "# Saving the Model\n",
    "# dump(sig_clf, 'logistic_regression_tfidf.joblib')\n",
    "\n",
    "# Loading the Model\n",
    "sig_clf = load('../input/d/elemento/quora-question-pairs/logistic_regression_tfidf.joblib')"
   ]
  },
  {
   "cell_type": "code",
   "execution_count": 33,
   "id": "f9ac6c36",
   "metadata": {
    "execution": {
     "iopub.execute_input": "2021-10-06T17:43:41.330791Z",
     "iopub.status.busy": "2021-10-06T17:43:41.329886Z",
     "iopub.status.idle": "2021-10-06T17:43:42.960216Z",
     "shell.execute_reply": "2021-10-06T17:43:42.960689Z",
     "shell.execute_reply.started": "2021-10-06T16:35:55.545349Z"
    },
    "papermill": {
     "duration": 1.670627,
     "end_time": "2021-10-06T17:43:42.960856",
     "exception": false,
     "start_time": "2021-10-06T17:43:41.290229",
     "status": "completed"
    },
    "tags": []
   },
   "outputs": [
    {
     "name": "stdout",
     "output_type": "stream",
     "text": [
      "Best Alpha: 0.01, Train log loss: 0.4337823783404231\n",
      "Best Alpha: 0.01, Test log loss: 0.43529376875491627\n",
      "Total number of data points: 30000\n"
     ]
    },
    {
     "data": {
      "image/png": "[encoded data removed]",
      "text/plain": [
       "<Figure size 864x720 with 6 Axes>"
      ]
     },
     "metadata": {
      "needs_background": "light"
     },
     "output_type": "display_data"
    }
   ],
   "source": [
    "predict_y = sig_clf.predict_proba(X_train)\n",
    "print(\"Best Alpha: 0.01, Train log loss:\", log_loss(y_train, predict_y, labels=sig_clf.classes_))\n",
    "predict_y = sig_clf.predict_proba(X_test)\n",
    "print(\"Best Alpha: 0.01, Test log loss:\", log_loss(y_test, predict_y, labels=sig_clf.classes_))\n",
    "predicted_y = np.argmax(predict_y, axis=1)\n",
    "print(\"Total number of data points:\", len(predicted_y))\n",
    "plot_confusion_matrix(y_test, predicted_y)"
   ]
  },
  {
   "cell_type": "markdown",
   "id": "4937b7dc",
   "metadata": {
    "papermill": {
     "duration": 0.038928,
     "end_time": "2021-10-06T17:43:43.038280",
     "exception": false,
     "start_time": "2021-10-06T17:43:42.999352",
     "status": "completed"
    },
    "tags": []
   },
   "source": [
    "### 5.2.2 Linear SVM"
   ]
  },
  {
   "cell_type": "code",
   "execution_count": 34,
   "id": "09a0aa23",
   "metadata": {
    "execution": {
     "iopub.execute_input": "2021-10-06T17:43:43.120454Z",
     "iopub.status.busy": "2021-10-06T17:43:43.119577Z",
     "iopub.status.idle": "2021-10-06T17:43:43.122752Z",
     "shell.execute_reply": "2021-10-06T17:43:43.123247Z",
     "shell.execute_reply.started": "2021-10-06T16:35:57.315365Z"
    },
    "papermill": {
     "duration": 0.045753,
     "end_time": "2021-10-06T17:43:43.123403",
     "exception": false,
     "start_time": "2021-10-06T17:43:43.077650",
     "status": "completed"
    },
    "tags": []
   },
   "outputs": [],
   "source": [
    "# # Using the hyper-parameters obtained from the previous hyper-parameter tuning\n",
    "# clf = SGDClassifier(alpha=0.01, penalty='l2', loss='hinge', random_state=42)\n",
    "# clf.fit(X_train, y_train)\n",
    "# sig_clf = CalibratedClassifierCV(clf, method=\"sigmoid\")\n",
    "# sig_clf.fit(X_train, y_train)"
   ]
  },
  {
   "cell_type": "code",
   "execution_count": 35,
   "id": "98e5d6aa",
   "metadata": {
    "execution": {
     "iopub.execute_input": "2021-10-06T17:43:43.205770Z",
     "iopub.status.busy": "2021-10-06T17:43:43.205040Z",
     "iopub.status.idle": "2021-10-06T17:43:43.218423Z",
     "shell.execute_reply": "2021-10-06T17:43:43.218923Z",
     "shell.execute_reply.started": "2021-10-06T16:35:57.320197Z"
    },
    "papermill": {
     "duration": 0.056932,
     "end_time": "2021-10-06T17:43:43.219103",
     "exception": false,
     "start_time": "2021-10-06T17:43:43.162171",
     "status": "completed"
    },
    "tags": []
   },
   "outputs": [],
   "source": [
    "# Saving the Model\n",
    "# dump(sig_clf, 'linear_svm_tfidf.joblib')\n",
    "\n",
    "# Loading the Model\n",
    "sig_clf = load('../input/d/elemento/quora-question-pairs/linear_svm_tfidf.joblib')"
   ]
  },
  {
   "cell_type": "code",
   "execution_count": 36,
   "id": "eafec7c7",
   "metadata": {
    "execution": {
     "iopub.execute_input": "2021-10-06T17:43:43.300209Z",
     "iopub.status.busy": "2021-10-06T17:43:43.299672Z",
     "iopub.status.idle": "2021-10-06T17:43:44.977956Z",
     "shell.execute_reply": "2021-10-06T17:43:44.977193Z",
     "shell.execute_reply.started": "2021-10-06T16:35:57.342107Z"
    },
    "papermill": {
     "duration": 1.719966,
     "end_time": "2021-10-06T17:43:44.978116",
     "exception": false,
     "start_time": "2021-10-06T17:43:43.258150",
     "status": "completed"
    },
    "tags": []
   },
   "outputs": [
    {
     "name": "stdout",
     "output_type": "stream",
     "text": [
      "Best Alpha: 0.01, Train log loss: 0.43445956669570523\n",
      "Best Alpha: 0.01, Test log loss: 0.4360127132128606\n",
      "Total number of data points: 30000\n"
     ]
    },
    {
     "data": {
      "image/png": "[encoded data removed]",
      "text/plain": [
       "<Figure size 864x720 with 6 Axes>"
      ]
     },
     "metadata": {
      "needs_background": "light"
     },
     "output_type": "display_data"
    }
   ],
   "source": [
    "predict_y = sig_clf.predict_proba(X_train)\n",
    "print(\"Best Alpha: 0.01, Train log loss:\", log_loss(y_train, predict_y, labels=sig_clf.classes_))\n",
    "predict_y = sig_clf.predict_proba(X_test)\n",
    "print(\"Best Alpha: 0.01, Test log loss:\", log_loss(y_test, predict_y, labels=sig_clf.classes_))\n",
    "predicted_y = np.argmax(predict_y, axis=1)\n",
    "print(\"Total number of data points:\", len(predicted_y))\n",
    "plot_confusion_matrix(y_test, predicted_y)"
   ]
  }
 ],
 "metadata": {
  "kernelspec": {
   "display_name": "Python 3",
   "language": "python",
   "name": "python3"
  },
  "language_info": {
   "codemirror_mode": {
    "name": "ipython",
    "version": 3
   },
   "file_extension": ".py",
   "mimetype": "text/x-python",
   "name": "python",
   "nbconvert_exporter": "python",
   "pygments_lexer": "ipython3",
   "version": "3.7.10"
  },
  "papermill": {
   "default_parameters": {},
   "duration": 45.734354,
   "end_time": "2021-10-06T17:43:46.505686",
   "environment_variables": {},
   "exception": null,
   "input_path": "__notebook__.ipynb",
   "output_path": "__notebook__.ipynb",
   "parameters": {},
   "start_time": "2021-10-06T17:43:00.771332",
   "version": "2.3.3"
  }
 },
 "nbformat": 4,
 "nbformat_minor": 5
}
